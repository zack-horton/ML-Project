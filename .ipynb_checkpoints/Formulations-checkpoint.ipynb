{
 "cells": [
  {
   "cell_type": "markdown",
   "id": "d4c8b31c-c88e-4f1a-b2c8-e16c355fda26",
   "metadata": {},
   "source": [
    "\\begin{align}\n",
    "    & \\text{Optimal K-Means Clustering:} \\\\\n",
    "    &\\quad \\text{Sets and Ranges:} \\\\\n",
    "    &\\quad \\quad \\text{Observations: } \\quad i \\in [1, n] \\\\\n",
    "    &\\quad \\quad \\text{Variables/Factors: } \\quad j \\in [1, p] \\\\\n",
    "    &\\quad \\quad \\text{Clusters: } \\quad k \\in [1, K] \\\\ \n",
    "    &\\quad \\quad \\text{Observed Data (normalized/scaled): } \\quad x'_{ij} \\\\ \\\\\n",
    "    &\\quad \\text{Variables for MIO:} \\\\\n",
    "    &\\quad \\quad \\text{Observation $i$ assigned to cluster $k$: } \\quad z_{ik} \\in \\{0, 1\\} \\\\\n",
    "    &\\quad \\quad \\text{Values for cluster $k's$ centroids: } \\quad c_{kj} \\in \\mathbb{R} \\\\\n",
    "    &\\quad \\quad \\text{Distance between $i$ and cluster $k's$ centroid: } \\quad d_{ij} \\geq 0 \\\\ \\\\\n",
    "    &\\quad \\text{Constraints for MIO:} \\\\\n",
    "    &\\quad \\quad \\text{Ensure Cluster Assignment:} \\\\\n",
    "    &\\quad \\quad \\quad \\sum_{k=1}^{K} z_{ik} = 1\\ , \\quad \\forall i \\in [1, n] \\\\ \\\\\n",
    "    &\\quad \\quad \\text{Distance (if Manhattan):} \\quad d_{ij} = | x_{ij} - c_{kj} | \\\\\n",
    "    &\\quad \\quad \\quad d_{ij} \\geq x_{ij} - c_{kj} - \\mathbf{M} \\times (1 - z_{ik})\\ , \\quad \\forall i \\in [1, n], \\quad \\forall j \\in [1, p], \\quad \\forall k \\in [1, K] \\\\\n",
    "    &\\quad \\quad \\quad d_{ij} \\geq c_{kj} - x_{ij} - \\mathbf{M} \\times (1 - z_{ik})\\ , \\quad \\forall i \\in [1, n], \\quad \\forall j \\in [1, p], \\quad \\forall k \\in [1, K] \\\\ \\\\\n",
    "    &\\quad \\quad \\text{Distance (if Euclidean):} \\quad d_{ij} = || x_{ij} - c_{kj} ||_{2} \\\\\n",
    "    &\\quad \\quad \\quad d_{ij} \\geq ||x_{ij} - c_{kj}||_{2} - \\mathbf{M} \\times (1 - z_{ik})\\ , \\quad \\forall i \\in [1, n], \\quad \\forall j \\in [1, p], \\quad \\forall k \\in [1, K] \\\\ \\\\\n",
    "    &\\quad \\text{Objective Function:} \\\\\n",
    "    &\\quad \\quad \\quad \\min \\sum_{i=1}^{n} \\sum_{j=1}^{p} d_{ij}\n",
    "\\end{align}"
   ]
  },
  {
   "cell_type": "code",
   "execution_count": null,
   "id": "a2670493-a068-48e1-be26-5a55a7df35cc",
   "metadata": {},
   "outputs": [],
   "source": []
  },
  {
   "cell_type": "markdown",
   "id": "ec7530d2-554e-4ed9-9c10-3dfa9025214a",
   "metadata": {},
   "source": [
    "\\begin{align}\n",
    "    & \\text{Optimal K-Medoids Clustering:} \\\\\n",
    "    &\\quad \\text{Sets and Ranges:} \\\\\n",
    "    &\\quad \\quad \\text{Observations: } \\quad i \\in [1, n] \\\\\n",
    "    &\\quad \\quad \\text{Variables/Factors: } \\quad j \\in [1, p] \\\\\n",
    "    &\\quad \\quad \\text{Clusters: } \\quad k \\in [1, K] \\\\ \n",
    "    &\\quad \\quad \\text{Observed Data (normalized/scaled): } \\quad x'_{ij} \\\\ \\\\\n",
    "    &\\quad \\text{Variables for MIO:} \\\\\n",
    "    &\\quad \\quad \\text{Observation $i$ assigned to cluster $k$: } \\quad z_{ik} \\in \\{0, 1\\} \\\\\n",
    "    &\\quad \\quad \\text{Observation $i$ is medoid of cluster $k$: } \\quad m_{ik} \\in \\{0, 1\\} \\\\\n",
    "    &\\quad \\quad \\text{Values for cluster $k's$ medoid: } \\quad c_{kj} \\in \\mathbb{R} \\\\\n",
    "    &\\quad \\quad \\text{Distance between $i$ and cluster $k's$ medoid: } \\quad d_{ij} \\geq 0 \\\\ \\\\\n",
    "    &\\quad \\text{Constraints for MIO:} \\\\\n",
    "    &\\quad \\quad \\text{Ensure Cluster Assignment:} \\\\\n",
    "    &\\quad \\quad \\quad \\sum_{k=1}^{K} z_{ik} = 1\\ , \\quad \\forall i \\in [1, n] \\\\ \\\\\n",
    "    &\\quad \\quad \\text{Ensure Medoid Assignment:} \\\\\n",
    "    &\\quad \\quad \\quad \\sum_{i=1}^{n} m_{ik} = 1\\ , \\quad \\forall k \\in [1, K] \\\\ \n",
    "    &\\quad \\quad \\quad \\sum_{k=1}^{K} m_{ik} \\leq 1\\ , \\quad \\forall i \\in [1, n] \\\\ \n",
    "    &\\quad \\quad \\quad m_{ik} \\leq z_{ik}\\ , \\quad \\forall i \\in [1, n], \\quad \\forall k \\in [1, K] \\\\ \\\\\n",
    "    &\\quad \\quad \\text{Determine Medoid Values:} \\\\\n",
    "    &\\quad \\quad \\quad x'_{ij} - \\mathbf{M} \\times (1 - m_{ik}) \\leq c_{kj}\\ , \\quad \\forall i \\in [1, n], \\quad \\forall j \\in [1, p], \\quad \\forall k \\in [1, K] \\\\\n",
    "    &\\quad \\quad \\quad c_{kj} \\leq x'_{ij} + \\mathbf{M} \\times (1 - m_{ik})\\ , \\quad \\forall i \\in [1, n], \\quad \\forall j \\in [1, p], \\quad \\forall k \\in [1, K] \\\\ \\\\\n",
    "    &\\quad \\quad \\text{Distance (if Manhattan):} \\quad d_{ij} = | x_{ij} - c_{kj} | \\\\\n",
    "    &\\quad \\quad \\quad d_{ij} \\geq x_{ij} - c_{kj} - \\mathbf{M} \\times (1 - z_{ik})\\ , \\quad \\forall i \\in [1, n], \\quad \\forall j \\in [1, p], \\quad \\forall k \\in [1, K] \\\\\n",
    "    &\\quad \\quad \\quad d_{ij} \\geq c_{kj} - x_{ij} - \\mathbf{M} \\times (1 - z_{ik})\\ , \\quad \\forall i \\in [1, n], \\quad \\forall j \\in [1, p], \\quad \\forall k \\in [1, K] \\\\ \\\\\n",
    "    &\\quad \\quad \\text{Distance (if Euclidean):} \\quad d_{ij} = || x_{ij} - c_{kj} ||_{2} \\\\\n",
    "    &\\quad \\quad \\quad d_{ij} \\geq ||x_{ij} - c_{kj}||_{2} - \\mathbf{M} \\times (1 - z_{ik})\\ , \\quad \\forall i \\in [1, n], \\quad \\forall j \\in [1, p], \\quad \\forall k \\in [1, K] \\\\ \\\\\n",
    "    &\\quad \\text{Objective Function:} \\\\\n",
    "    &\\quad \\quad \\quad \\min \\sum_{i=1}^{n} \\sum_{j=1}^{p} d_{ij}\n",
    "\\end{align}"
   ]
  },
  {
   "cell_type": "code",
   "execution_count": null,
   "id": "404f4d9c-5ef8-447f-9cfb-70caf0e0009b",
   "metadata": {},
   "outputs": [],
   "source": []
  }
 ],
 "metadata": {
  "kernelspec": {
   "display_name": "Julia 1.9.3",
   "language": "julia",
   "name": "julia-1.9"
  },
  "language_info": {
   "file_extension": ".jl",
   "mimetype": "application/julia",
   "name": "julia",
   "version": "1.9.3"
  }
 },
 "nbformat": 4,
 "nbformat_minor": 5
}
